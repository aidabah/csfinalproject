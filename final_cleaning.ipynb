{
 "cells": [
  {
   "cell_type": "code",
   "execution_count": 8,
   "metadata": {},
   "outputs": [],
   "source": [
    "# Data Cleaning Ideas:\n",
    "\n",
    "# One-hot encoding for Y/N columns\n",
    "# Encode non-binary columns like furniture status\n",
    "# removing duplicates---idk if we have any but we can find code to check\n",
    "\n",
    "\n",
    "# Normalizing/scaling necessary for linear regression -- i dont rlly know what that means\n",
    "\n",
    "# Visuals\n",
    "# visuals-- still confused on where/how its needed but we can just use a boxplot or scatter plot. will be good to show outlier detection\n",
    "# Boxplot, Scatter Plot: area and prices, heatmap\n",
    "# we can use this to add to our presentation and discuss why or why not we choose to remove them: IQR/z-score\n",
    "\n",
    "import pandas as pd\n",
    "from sklearn.preprocessing import StandardScaler\n",
    "\n",
    "\n",
    "house_df = pd.read_csv(\"C:\\\\Users\\\\AidaBah\\\\Desktop\\\\csci1070_course\\\\mycsclass\\\\csfinalproject\\\\Housing.csv\")\n",
    "\n",
    "house_df\n",
    "\n",
    "def one_hot_encoding(df):\n",
    "    yn_columns = ['mainroad', 'guestroom', 'basement', 'hotwaterheating', 'airconditioning', 'prefarea']\n",
    "    for col in yn_columns:\n",
    "        df[col] = df[col].apply(lambda x: 1 if x == 'yes' else 0)\n",
    "    return df\n",
    "\n",
    "def encode_categorical(df):\n",
    "    non_binary_cols = ['furnishingstatus']\n",
    "    df = pd.get_dummies(df, columns=non_binary_cols, drop_first=True)\n",
    "    return df\n",
    "\n",
    "def remove_duplicates(df):\n",
    "    df = df.drop_duplicates()\n",
    "    return df\n",
    "\n",
    "def normalize_data(df):\n",
    "    scaler = StandardScaler()\n",
    "    df_scaled = pd.DataFrame(scaler.fit_transform(df), columns=df.columns)\n",
    "    return df_scaled\n",
    "\n",
    "house_df = one_hot_encoding(house_df)\n",
    "house_df = encode_categorical(house_df)\n",
    "house_df = remove_duplicates(house_df)\n",
    "house_df = normalize_data(house_df)\n",
    "\n",
    "house_df.to_csv('cleaned_house.csv')\n"
   ]
  }
 ],
 "metadata": {
  "kernelspec": {
   "display_name": "Python 3",
   "language": "python",
   "name": "python3"
  },
  "language_info": {
   "codemirror_mode": {
    "name": "ipython",
    "version": 3
   },
   "file_extension": ".py",
   "mimetype": "text/x-python",
   "name": "python",
   "nbconvert_exporter": "python",
   "pygments_lexer": "ipython3",
   "version": "3.10.11"
  }
 },
 "nbformat": 4,
 "nbformat_minor": 2
}
